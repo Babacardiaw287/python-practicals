{
 "cells": [
  {
   "cell_type": "markdown",
   "metadata": {},
   "source": [
    "<center>\n",
    "    <a href=\"https://www.aims-senegal.org/\" ><img src=\"aimssn_logo.png\" style=\"float:center; max-width: 600px; display: inline\" alt=\"IMSP\"/> </a>\n",
    "    </center>\n",
    "    \n",
    "#    <center> <b> <span style=\"color:orange;\" >  `Python for Scientific Computing and Software Engineering ` </span> </b></center>\n",
    "\n",
    "\n",
    "## <center> <b> <span style=\"color:orange;\"> An Initiation to Programming using Python (Init2Py) </span> </b></center>\n",
    "\n",
    "### <center> <b> <span style=\"color:blue;\"> Practicals: Variables, Types & Operations </span> </b></center>"
   ]
  },
  {
   "cell_type": "markdown",
   "metadata": {},
   "source": [
    "**Exercise 00:**  \n",
    "\n",
    "> 1. Declare a variable `firstname` and assign it a value.\n",
    "> 2. Declare a `lastname` variable and assign a value to it.\n",
    "> 3. Declare a `full_name` variable and assign it a value.\n",
    "> 4. Declare a `country` variable and assign it a value.\n",
    "> 5. Declare a variable `city` and assign it a value.\n",
    "> 6. Declare a `age` variable and assign it a value.\n",
    "> 7. Declare a variable `year` and assign it a value.\n",
    "> 8. Declare a variable `is_marrie` and assign it a value.\n",
    "> 9. Declare a variable `is_true` and assign it a value.\n",
    "\n",
    "> For each of the above variable, display the value it contains using the `print()` function.\n",
    "\n",
    "\n"
   ]
  },
  {
   "cell_type": "code",
   "execution_count": 1,
   "metadata": {},
   "outputs": [
    {
     "name": "stdout",
     "output_type": "stream",
     "text": [
      "Babacar\n",
      "Diaw\n",
      "Babacar Diaw\n",
      "Senegal\n",
      "Mbour\n",
      "25\n",
      "1996\n",
      "False\n",
      "False\n"
     ]
    }
   ],
   "source": [
    "firstname='Babacar'\n",
    "lastname='Diaw'\n",
    "fullname='Babacar Diaw'\n",
    "country='Senegal'\n",
    "city='Mbour'\n",
    "age=25\n",
    "year=1996\n",
    "is_marrie=False\n",
    "is_true=False\n",
    "print(firstname)\n",
    "print(lastname)\n",
    "print(fullname)\n",
    "print(country)\n",
    "print(city)\n",
    "print(age) \n",
    "print(year)\n",
    "print(is_marrie) \n",
    "print(is_true)"
   ]
  },
  {
   "cell_type": "markdown",
   "metadata": {},
   "source": [
    "**Exercise 01:** \n",
    "> Check the data type of all your variables using the built-in function `type()`.**\n"
   ]
  },
  {
   "cell_type": "code",
   "execution_count": 2,
   "metadata": {
    "scrolled": true
   },
   "outputs": [
    {
     "name": "stdout",
     "output_type": "stream",
     "text": [
      "<class 'str'> Babacar\n",
      "<class 'str'> Diaw\n",
      "<class 'str'> Babacar Diaw\n",
      "<class 'str'> Senegal\n",
      "<class 'str'> Mbour\n",
      "<class 'int'> 25\n",
      "<class 'int'> 1996\n",
      "<class 'bool'> False\n",
      "<class 'bool'> False\n"
     ]
    }
   ],
   "source": [
    "print(type(firstname), firstname)\n",
    "print(type(lastname), lastname)\n",
    "print(type(fullname), fullname)\n",
    "print(type(country), country)\n",
    "print(type(city), city) \n",
    "print(type(age), age)\n",
    "print(type(year), year)\n",
    "print(type(is_marrie), is_marrie)\n",
    "print(type(is_true), is_true)"
   ]
  },
  {
   "cell_type": "markdown",
   "metadata": {},
   "source": [
    "**Exercise 02:** \n",
    "> Calculate the value of $y$ ($y = x^2 + 6x + 9$). Try using different values of $x$ and determine at what value of $x$ will $y$ be equal to 0.**"
   ]
  },
  {
   "cell_type": "code",
   "execution_count": 3,
   "metadata": {},
   "outputs": [
    {
     "name": "stdout",
     "output_type": "stream",
     "text": [
      "-3\n"
     ]
    }
   ],
   "source": [
    "x=-3\n",
    "y=x*x+6*x+9\n",
    "print(x)"
   ]
  },
  {
   "cell_type": "markdown",
   "metadata": {},
   "source": [
    "**Exercise 03:** \n",
    ">    \n",
    "     1. Declare your age as an integer variable\n",
    "     2. Declare your height as a float variable\n",
    "     3. Declare a variable that stores the base and height of a triangle. Calculate the area of this triangle (area = 0.5 x b x h)."
   ]
  },
  {
   "cell_type": "markdown",
   "metadata": {},
   "source": [
    "## *Tip: receiving input from the user *\n",
    "**To receive an input from the user, we use `input()`.**.\n",
    "\n",
    "**Example**\n",
    "Receive two numbers as input from the user and calculate their power:\n",
    "```python\n",
    "base = input(\"Enter a base: \")\n",
    "exponent = input(\"Enter an exponent: \")\n",
    "result = float(base) ** float(exponent)\n",
    "print(f \"{base} to the power of {exponent} = {result}\")\n",
    "```"
   ]
  },
  {
   "cell_type": "markdown",
   "metadata": {},
   "source": [
    "**Exercise 04:** \n",
    "> **Write a small code that asks the user to enter the side $a$, the side $b$ and the side $c$ of a triangle. Calculate the perimeter of the triangle (perimeter = a + b + c).**"
   ]
  },
  {
   "cell_type": "code",
   "execution_count": 6,
   "metadata": {},
   "outputs": [
    {
     "name": "stdout",
     "output_type": "stream",
     "text": [
      "Donner a 55\n",
      "Donner b 5\n",
      "Donner c 58\n",
      "le perimetre est  118\n"
     ]
    }
   ],
   "source": [
    "a=input('Donner a ')\n",
    "b=input('Donner b ')\n",
    "c=input('Donner c ')\n",
    "perimeter=int(a)+int(b)+int(c)\n",
    "print('le perimetre est ',perimeter)"
   ]
  },
  {
   "cell_type": "markdown",
   "metadata": {},
   "source": [
    "**Exercise 05:** \n",
    "> **Obtain the length and width of a rectangle using the prompt. Calculate its `area`and its `perimeter`.**"
   ]
  },
  {
   "cell_type": "code",
   "execution_count": 7,
   "metadata": {},
   "outputs": [
    {
     "name": "stdout",
     "output_type": "stream",
     "text": [
      "donnez la longueur 65\n",
      "donnez la largeur 8\n",
      "laire est  520\n",
      "le perimetre est  146\n"
     ]
    }
   ],
   "source": [
    "a=input('donnez la longueur ')\n",
    "b=input('donnez la largeur ')\n",
    "aire = int(a)*int(b)\n",
    "air=int(aire)\n",
    "perimetre = (int(a)+int(b))*2 \n",
    "print('laire est ',aire) \n",
    "print('le perimetre est ',perimetre)"
   ]
  },
  {
   "cell_type": "markdown",
   "metadata": {},
   "source": [
    "**Exercice 06:** \n",
    "> **Obtenez le rayon d'un cercle en utilisant l'invite. Calculez l'aire (aire = pi x r x r) et la circonférence (c = 2 x pi x r) où pi = 3,14.**"
   ]
  },
  {
   "cell_type": "code",
   "execution_count": 8,
   "metadata": {},
   "outputs": [
    {
     "name": "stdout",
     "output_type": "stream",
     "text": [
      "Donner le rayon 3\n",
      "laire est 28.274333882308138\n",
      "la circonference est  18.84955592153876\n"
     ]
    }
   ],
   "source": [
    "import math as m\n",
    "rayon=input('Donner le rayon ')\n",
    "aire= int(rayon)*int(rayon)*m.pi\n",
    "circon=2*m.pi*int(rayon)\n",
    "print('laire est',aire)\n",
    "print('la circonference est ',circon)"
   ]
  },
  {
   "cell_type": "markdown",
   "metadata": {},
   "source": [
    "**Exercice 07:**\n",
    "> **Calculez la pente, l'ordonnée à l'origine en x et l'ordonnée à l'origine en $y$ de $y = 2x -2$.**"
   ]
  },
  {
   "cell_type": "code",
   "execution_count": 9,
   "metadata": {},
   "outputs": [
    {
     "name": "stdout",
     "output_type": "stream",
     "text": [
      "Donnez x1 +6\n",
      "Donnez x2 8\n",
      "la pente est  2.0\n",
      "lordonnee a lorigine en x est  -2\n",
      "lordonnee a lorigine en y est -1.0\n"
     ]
    }
   ],
   "source": [
    "x1=float(input('Donnez x1 '))\n",
    "y1=2*float(x1)-2\n",
    "x2=float(input('Donnez x2 '))\n",
    "y2=2*float(x2)-2\n",
    "pente=(float(y1)-float(y2))/(float(x1)-float(x2))\n",
    "print('la pente est ', pente)\n",
    "yorig=2*0-2\n",
    "xorig=-2/2\n",
    "print('lordonnee a lorigine en x est ',yorig)\n",
    "print('lordonnee a lorigine en y est',xorig)"
   ]
  },
  {
   "cell_type": "markdown",
   "metadata": {},
   "source": [
    "**Exercice 08:** \n",
    "> **Rédigez un script qui demande à l'utilisateur d'entrer les heures et le taux horaire. Calculez la rémunération de la personne ?**"
   ]
  },
  {
   "cell_type": "code",
   "execution_count": 10,
   "metadata": {},
   "outputs": [
    {
     "name": "stdout",
     "output_type": "stream",
     "text": [
      "donner le nombre d heure 10\n",
      "donner le taux horaire 1000\n",
      "votre renumeration sera  10000.0\n"
     ]
    }
   ],
   "source": [
    "h=input('donner le nombre d heure ')\n",
    "taux=input('donner le taux horaire ')\n",
    "renum=int(h)*float(taux)\n",
    "print('votre renumeration sera ',renum)\n"
   ]
  },
  {
   "cell_type": "markdown",
   "metadata": {},
   "source": [
    "**Exercice 09:** \n",
    "> **Écrivez un script qui demande à l'utilisateur d'entrer le nombre d'années. Calculez le nombre de secondes qu'une personne peut vivre. Supposons qu'une personne puisse vivre cent ans.**"
   ]
  },
  {
   "cell_type": "code",
   "execution_count": 26,
   "metadata": {},
   "outputs": [
    {
     "name": "stdout",
     "output_type": "stream",
     "text": [
      "donner le nombre dannees 12\n",
      "le nombre correspond en seconde a :  -3\n"
     ]
    }
   ],
   "source": [
    "nbre=int(input('donner le nombre dannees '))  \n",
    "while nbre>100:\n",
    "    nbre=int(input('donner le nombre dannees ')) \n",
    "    x=24*3600*30*12*nbr\n",
    "print(\"le nombre correspond en seconde a : \", x)"
   ]
  },
  {
   "cell_type": "markdown",
   "metadata": {},
   "source": [
    "**Exercice 10:** \n",
    "> **Écrivez un script Python qui affiche le tableau suivant**\n",
    "\n",
    "    1 1 1 1 1\n",
    "    \n",
    "    2 1 2 4 8\n",
    "    \n",
    "    3 1 3 9 27\n",
    "    \n",
    "    4 1 4 16 64\n",
    "    \n",
    "    5 1 5 25 125"
   ]
  },
  {
   "cell_type": "code",
   "execution_count": 44,
   "metadata": {},
   "outputs": [
    {
     "name": "stdout",
     "output_type": "stream",
     "text": [
      "1 1 1 1 1\n",
      "2 1 2 4 8\n",
      "3 1 3 9 27\n",
      "4 1 4 16 64\n",
      "5 1 5 25 125\n",
      "\n",
      "\n"
     ]
    }
   ],
   "source": [
    "for i in range(1,6):\n",
    " print(i,1,i,i*i,i*i*i)\n",
    "print('\\n')"
   ]
  },
  {
   "cell_type": "markdown",
   "metadata": {},
   "source": [
    "**Exercise 11:** \n",
    ">**Assign the variables `time` and `distance` with the values $6.892$ and $19.7$. Calculate and display the value of the speed. Improve the display by imposing a digit after the decimal point.**"
   ]
  },
  {
   "cell_type": "code",
   "execution_count": 30,
   "metadata": {},
   "outputs": [
    {
     "name": "stdout",
     "output_type": "stream",
     "text": [
      "the speed is 2.8583865351131745\n",
      "2.9\n"
     ]
    }
   ],
   "source": [
    "time=6.892\n",
    "distance=19.7\n",
    "speed=float(distance)/float(time)\n",
    "print('the speed is',speed )\n",
    "c=round(speed,1)\n",
    "print(c)"
   ]
  },
  {
   "cell_type": "markdown",
   "metadata": {},
   "source": [
    "**Exercice 12:** \n",
    "> **Écrire un programme qui, à partir de la saisie d’un rayon et d’une hauteur, calcule levolume d’un cône droit.**"
   ]
  },
  {
   "cell_type": "code",
   "execution_count": 33,
   "metadata": {},
   "outputs": [
    {
     "name": "stdout",
     "output_type": "stream",
     "text": [
      "Donnez le rayon 1\n",
      "Donnez la hauteur 2\n",
      "le volume du cne droit est  2.0943951023931953\n"
     ]
    }
   ],
   "source": [
    "import math\n",
    "rayon=input('Donnez le rayon ')\n",
    "hauteur=input('Donnez la hauteur ')\n",
    "volume=(1/3)*math.pi*float(rayon)*float(rayon)*float(hauteur)\n",
    "print(\"le volume du cote droit est \",volume)"
   ]
  },
  {
   "cell_type": "markdown",
   "metadata": {},
   "source": [
    "**Exercise 13:** \n",
    "> **The user gives a positive integer and the program announces how many times in a row this integer is divisible by 2.**"
   ]
  },
  {
   "cell_type": "code",
   "execution_count": 15,
   "metadata": {},
   "outputs": [
    {
     "name": "stdout",
     "output_type": "stream",
     "text": [
      "donner un entier positif -6\n",
      "donner un entier positif -5\n",
      "donner un entier positif -1\n",
      "donner un entier positif 2\n",
      "1\n"
     ]
    }
   ],
   "source": [
    "a=int(input('donner un entier positif '))\n",
    "while (a < 0) :\n",
    "    a=int(input('donner un entier positif '))\n",
    "n=0\n",
    "while (a % 2 == 0):\n",
    "    a=a/2\n",
    "    n+=1\n",
    "print(n)"
   ]
  },
  {
   "cell_type": "markdown",
   "metadata": {},
   "source": [
    "**Exercise 14:** \n",
    ">**The user gives an integer between 2 and 12, the program gives the number of ways to do this by rolling two dice."
   ]
  },
  {
   "cell_type": "code",
   "execution_count": 13,
   "metadata": {},
   "outputs": [
    {
     "name": "stdout",
     "output_type": "stream",
     "text": [
      "Donnez un nombre compris entre 2 et 12 : -1\n"
     ]
    }
   ],
   "source": [
    "c=int(input('Donnez un nombre compris entre 2 et 12 : '))\n",
    "while ((c>12) or (c<2)):\n",
    "    c=int(input('Donnez un nombre compris entre 2 et 12 : '))\n",
    "v=[(a,b) for a]"
   ]
  },
  {
   "cell_type": "markdown",
   "metadata": {},
   "source": [
    "**Exercice 15:** \n",
    "> **Utilisez la fonction d'entrée intégrée `input()` pour obtenir le `_prénom_`, le `_nom_`, le `_pays_d_origine` et l'`_age_` d'un utilisateur et stockez la valeur dans les noms des variables correspondantes.**"
   ]
  },
  {
   "cell_type": "code",
   "execution_count": 7,
   "metadata": {},
   "outputs": [
    {
     "name": "stdout",
     "output_type": "stream",
     "text": [
      "donnez votre prenom : bab\n",
      "Donnez votre nom : diaw\n",
      "Donnez votre pays d origine : france\n",
      "donnez votre age28\n"
     ]
    }
   ],
   "source": [
    "_prenom=str(input('donnez votre prenom : '))\n",
    "_nom=str(input('Donnez votre nom : '))\n",
    "_pays_d_origine=str(input('Donnez votre pays d origine : '))\n",
    "_age_=int(input('donnez votre age '))\n"
   ]
  },
  {
   "cell_type": "markdown",
   "metadata": {},
   "source": [
    "**Exercice 16:** \n",
    "\n",
    "**Déclarer $5$ comme `num_one` et $4$ comme `num_two`**\n",
    "\n",
    "   1. Additionner `num_one` et `num_two` et affecter la valeur à une variable `totale`.\n",
    "   2. Soustraire `num_two` de `num_one` et affecter la valeur à une variable `diff`.\n",
    "   3. Multipliez le `num_one` et le `num_two` et attribuez la valeur à une variable `produit`.\n",
    "   4. Divisez le `num_one` par le `num_two` et attribuez la valeur à une variable `division`.\n",
    "   5. Calculez `num_one` à la puissance de `num_two` et attribuez la valeur à une variable `exp`."
   ]
  },
  {
   "cell_type": "code",
   "execution_count": 6,
   "metadata": {},
   "outputs": [
    {
     "name": "stdout",
     "output_type": "stream",
     "text": [
      "le total est  9\n",
      "la difference est  -1\n",
      "le produit est  20\n",
      "la division est  0.8\n",
      "le calcul de la puissance donne  1\n"
     ]
    }
   ],
   "source": [
    "num_one=5\n",
    "num_two=4\n",
    "totale=num_one+num_two\n",
    "diff=num_two-num_one\n",
    "produit=num_one*num_two\n",
    "division=float(num_two)/float(num_one)\n",
    "exp=num_one^num_two\n",
    "print('le total est ',totale)\n",
    "print('la difference est ',diff)\n",
    "print('le produit est ',produit)\n",
    "print('la division est ',division)\n",
    "print('le calcul de la puissance donne ',exp)"
   ]
  },
  {
   "cell_type": "markdown",
   "metadata": {},
   "source": [
    "<center> <b> <span style=\"color:orange;\"> 🎉 FÉLICITATIONS! / CONGRATULATIONS! 🎉 </span> </b></center>"
   ]
  },
  {
   "cell_type": "code",
   "execution_count": null,
   "metadata": {},
   "outputs": [],
   "source": []
  }
 ],
 "metadata": {
  "kernelspec": {
   "display_name": "Python 3",
   "language": "python",
   "name": "python3"
  },
  "language_info": {
   "codemirror_mode": {
    "name": "ipython",
    "version": 3
   },
   "file_extension": ".py",
   "mimetype": "text/x-python",
   "name": "python",
   "nbconvert_exporter": "python",
   "pygments_lexer": "ipython3",
   "version": "3.6.9"
  }
 },
 "nbformat": 4,
 "nbformat_minor": 5
}
