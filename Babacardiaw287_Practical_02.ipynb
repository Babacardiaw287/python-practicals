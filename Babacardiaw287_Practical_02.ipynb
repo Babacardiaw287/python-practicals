{
 "cells": [
  {
   "cell_type": "markdown",
   "metadata": {
    "id": "RAWKZD-l8aDi"
   },
   "source": [
    "\n",
    "<center>\n",
    "    <a href=\"https://www.aims-senegal.org/\" ><img src=\"aimssn_logo.png\" style=\"float:center; max-width: 600px; display: inline\" alt=\"AIMS-SN\"/> </a>\n",
    "    </center>\n",
    "    \n",
    "#    <center> <b> <span style=\"color:orange;\" >  `Python for Scientific Computing and Software Engineering ` </span> </b></center>\n",
    "\n",
    "\n",
    "## <center> <b> <span style=\"color:orange;\"> An Initiation to Programming using Python (Init2Py) </span> </b></center>\n",
    "\n",
    "### <center> <b> <span style=\"color:blue;\"> Travaux Pratiques: Chaînes de caractères</span> </b></center>\n",
    "\n"
   ]
  },
  {
   "cell_type": "markdown",
   "metadata": {},
   "source": [
    "**EN = English**                     \n",
    "\n",
    "**FR = Français**"
   ]
  },
  {
   "cell_type": "markdown",
   "metadata": {
    "id": "MqQawZ_q8aDl"
   },
   "source": [
    "#### **Exercice 00:**  \n",
    "> **FR: Concaténation des chaînes 'Trente', 'Jours', 'De', 'Python', 'Trente Jours De Python' en une seule chaîne.**\n",
    "\n",
    "> **EN: Concatenation of the strings 'Thirty', 'Days', 'From', 'Python', 'Thirty Days From Python' into one string.**"
   ]
  },
  {
   "cell_type": "code",
   "execution_count": 5,
   "metadata": {
    "id": "_nco70S-8aDo"
   },
   "outputs": [
    {
     "name": "stdout",
     "output_type": "stream",
     "text": [
      "Trente\n",
      "Jours\n",
      "De\n",
      "Python\n",
      "Trente Jours De Python\n",
      "TrenteJoursDePython\n"
     ]
    }
   ],
   "source": [
    "trente=\"Trente\"\n",
    "jours=\"Jours\"\n",
    "de=\"De\"\n",
    "python=\"Python\"\n",
    "print(trente)\n",
    "print(jours)\n",
    "print(de)\n",
    "print(python)\n",
    "print(trente,jours,de,python)\n",
    "print(trente+jours+de+python)\n"
   ]
  },
  {
   "cell_type": "markdown",
   "metadata": {
    "id": "UdYv8mBJ8aDt"
   },
   "source": [
    "#### **Exercice 01:**  \n",
    "> **FR: Concaténer la chaîne 'Codage', 'Pour', 'Tous' en une seule chaîne, 'Codage Pour Tous'.**\n",
    "\n",
    "> **EN: Concatenate the string 'Coding', 'For', 'All' into one string, 'Coding For All'.**"
   ]
  },
  {
   "cell_type": "code",
   "execution_count": 6,
   "metadata": {
    "id": "Q-YHaNPp8aDx"
   },
   "outputs": [
    {
     "name": "stdout",
     "output_type": "stream",
     "text": [
      "Codage Pour Tous\n"
     ]
    }
   ],
   "source": [
    "code=\"Codage\"\n",
    "pour=\"Pour\"\n",
    "tous=\"Tous\"\n",
    "print(code,pour,tous)"
   ]
  },
  {
   "cell_type": "markdown",
   "metadata": {
    "id": "CBYAS7io8aD0"
   },
   "source": [
    "#### **Exercice 02:**  \n",
    "> FR:\n",
    "> 1. **Déclarer une variable nommée `compagnie` et lui attribuer une valeur initiale `Coding    For All`.**\n",
    "> 2. **Imprimez la variable `compagnie` en utilisant `print()`.**\n",
    "\n",
    "> EN:\n",
    "> 1. **Declare a variable named `company` and give it an initial value `Coding For All`.**\n",
    "> 2. **Print the variable `company` using `print()`.**\n"
   ]
  },
  {
   "cell_type": "code",
   "execution_count": 52,
   "metadata": {
    "id": "crZdf6LS8aD2"
   },
   "outputs": [
    {
     "name": "stdout",
     "output_type": "stream",
     "text": [
      "Coding For All\n"
     ]
    }
   ],
   "source": [
    "compagnie=\"Coding For All\"\n",
    "print(compagnie)"
   ]
  },
  {
   "cell_type": "markdown",
   "metadata": {
    "id": "Sw7GIfGV8aD3"
   },
   "source": [
    "#### **Exercice 03:** \n",
    "> FR:\n",
    ">1. **Imprimez la longueur de la chaîne de la société en utilisant la méthode `len()` et la fonction `print()`.**\n",
    ">2. **Changez tous les caractères en lettres majuscules à l'aide de la méthode `upper()`.**\n",
    ">3. **Changez tous les caractères en minuscules à l'aide de la méthode `lower()`.**\n",
    ">4. **Utilisez les méthodes `capitalize()`, `title()`, `swapcase()` pour formater la valeur de la chaîne `Coding For All\"`.**\n",
    "\n",
    "> EN:\n",
    ">1. **Print the length of the company string using the `len()` method and the `print()` function.**\n",
    ">2. **Change all characters to uppercase using the `upper()` method.**\n",
    ">3. **Change all characters to lowercase using the `lower()` method.**\n",
    ">4. **Use the `capitalize()`, `title()`, `swapcase()` methods to format the value of the `Coding For All\"`string.**\n",
    " "
   ]
  },
  {
   "cell_type": "code",
   "execution_count": 30,
   "metadata": {
    "id": "rFntZB6J8aD6"
   },
   "outputs": [
    {
     "name": "stdout",
     "output_type": "stream",
     "text": [
      "14\n",
      "CODING FOR ALL\n",
      "coding for all\n",
      "Coding for all\n",
      "Coding For All\n",
      "cODING fOR aLL\n"
     ]
    }
   ],
   "source": [
    "print(len(compagnie))\n",
    "new=str(compagnie.upper())\n",
    "print(new)\n",
    "neww=str(compagnie.lower())\n",
    "print(neww)\n",
    "print(compagnie.capitalize())\n",
    "print(new.title())\n",
    "print(compagnie.swapcase())"
   ]
  },
  {
   "cell_type": "markdown",
   "metadata": {
    "id": "QOvVg49v8aD9"
   },
   "source": [
    "#### **Exercice 04:** \n",
    ">FR:\n",
    ">1. **Remplacez le mot `Coding` dans la chaîne `Coding For All` par `Python`.**\n",
    ">2. **Divisez la chaîne `Coding For All` en utilisant l'espace comme séparateur `(split())`.**\n",
    ">3. **Quel est le caractère à l'indice 0 dans la chaîne `Coding For All`?**\n",
    ">4. **Quel est le dernier indice de la chaîne `Coding For All` ?**\n",
    "\n",
    ">EN:\n",
    ">1. **Replace the word `Coding` in the `Coding For All` string with `Python`.**\n",
    ">2. **Split the `Coding For All` string using the space as a separator `(split())`.**.\n",
    ">3. **What is the character at index 0 in the string `Coding For All`?**.\n",
    ">4. **What is the last index of the string `Coding For All`?**."
   ]
  },
  {
   "cell_type": "code",
   "execution_count": 53,
   "metadata": {
    "id": "Q4CYyw1r8aD-"
   },
   "outputs": [
    {
     "name": "stdout",
     "output_type": "stream",
     "text": [
      "Python For All\n",
      "['Coding', 'For', 'All']\n",
      "Le caractere 0 est C\n",
      "Le dernier indice de la chaine est 13\n"
     ]
    }
   ],
   "source": [
    "rest=compagnie.replace(\"Coding\",\"Python\")\n",
    "print(rest)\n",
    "new2=str(\"Coding For All\") \n",
    "new3=new2.split()\n",
    "print(new3)    \n",
    "print('Le caractere 0 est C')    \n",
    "print('Le dernier indice de la chaine est 13')"
   ]
  },
  {
   "cell_type": "markdown",
   "metadata": {
    "id": "3D3Q3P628aD_"
   },
   "source": [
    "#### **Exercice 05:** \n",
    ">**FR: Etant donné une chaine `__s__`, afficher une chaine faite des deux premiers et\n",
    "des deux derniers caractères.**\n",
    "\n",
    ">**EN: Given a string `__s__`, display a string made of the first two and last two characters the last two characters.**"
   ]
  },
  {
   "cell_type": "code",
   "execution_count": 41,
   "metadata": {
    "id": "LnbrdEnY8aEA"
   },
   "outputs": [
    {
     "name": "stdout",
     "output_type": "stream",
     "text": [
      "gu ak\n"
     ]
    }
   ],
   "source": [
    "_s_=\"guttentak\"\n",
    "n=len(_s_)\n",
    "print(_s_[:2],_s_[n-2:])"
   ]
  },
  {
   "cell_type": "markdown",
   "metadata": {
    "id": "vLipzQ2T8aEA"
   },
   "source": [
    "#### **Exercice 06:** \n",
    "> **FR: Afficher les textes suivants à l’aide d’une seule instruction\n",
    "`print()`** :\n",
    "\n",
    "    un peu\n",
    "    beaucoup\n",
    "    passionnément\n",
    "\n",
    "    \"je t'aime\" dit-elle\n",
    "    \n",
    "    \n",
    "> **EN: Display the following texts with a single statement\n",
    "print()`**     \n",
    "\n",
    "    a little\n",
    "    a lot\n",
    "    passionately\n",
    "\n",
    "    \"I love you\" she says"
   ]
  },
  {
   "cell_type": "code",
   "execution_count": 38,
   "metadata": {
    "id": "N8Y6B2i68aEC"
   },
   "outputs": [
    {
     "name": "stdout",
     "output_type": "stream",
     "text": [
      " un peu\n",
      " beaucoup\n",
      " passionnément\n",
      " \n",
      "\n",
      "\"je t'aime\" dit-elle\" \n"
     ]
    }
   ],
   "source": [
    "print(' un peu\\n beaucoup\\n passionnément\\n \\n\\n\"je t\\'aime\" dit-elle\" ')"
   ]
  },
  {
   "cell_type": "markdown",
   "metadata": {
    "id": "77GI9ooS8aEC"
   },
   "source": [
    "#### **Exercice 07:** \n",
    "> **FR: Écrivez un programme pour vérifier si la lettre 'e' est présente dans le mot 'Parapluie'.**\n",
    "\n",
    "> **EN: Write a program to check if the letter 'e' is present in the word 'Umbrella'.**"
   ]
  },
  {
   "cell_type": "code",
   "execution_count": 53,
   "metadata": {
    "id": "FFdDrMKd8aEE"
   },
   "outputs": [
    {
     "name": "stdout",
     "output_type": "stream",
     "text": [
      "La lettre e est presente dans la chaine\n"
     ]
    }
   ],
   "source": [
    "para=\"Parapluie\"\n",
    "k=para.find(\"e\")\n",
    "if (k!=-1):\n",
    "    print('La lettre e est presente dans la chaine')\n",
    "else:\n",
    "    print('La lettre e n\\'est pas presente ')"
   ]
  },
  {
   "cell_type": "markdown",
   "metadata": {
    "id": "fQPHnxs18aEE"
   },
   "source": [
    "#### **Exercice 08:** \n",
    "> **FR: Demandez à l'utilisateur de saisir son prénom et son nom de famille en réponse à une seule invite. Utilisez `split()` pour extraire les noms, puis affectez chaque nom à une variable différente.**\n",
    "\n",
    "> **EN: Ask the user to enter their first and last name in response to a single prompt. Use `split()` to extract the names, then assign each name to a different variable.**"
   ]
  },
  {
   "cell_type": "code",
   "execution_count": 2,
   "metadata": {
    "id": "TINJOu3g8aEG"
   },
   "outputs": [
    {
     "name": "stdout",
     "output_type": "stream",
     "text": [
      "Donner le prenom et nom babacar diaw\n",
      "Le prenom est babacar\n",
      "le nom est diaw\n"
     ]
    }
   ],
   "source": [
    "prenomnom=input('Donner le prenom et nom ')\n",
    "prenom=prenomnom.split()[0]\n",
    "nom=prenomnom.split()[1]\n",
    "print('Le prenom est',prenom)\n",
    "print(\"le nom est\",nom)"
   ]
  },
  {
   "cell_type": "markdown",
   "metadata": {
    "id": "cT6btvDz8aER"
   },
   "source": [
    "#### **Exercice 09:** \n",
    "> **FR: Demandez à l'utilisateur de saisir un mot, puis imprimez la longueur de ce mot.**\n",
    "\n",
    "> **EN: Ask the user to enter a word, then print the length of the word.**\n"
   ]
  },
  {
   "cell_type": "code",
   "execution_count": 4,
   "metadata": {
    "id": "feE7z0Q18aET"
   },
   "outputs": [
    {
     "name": "stdout",
     "output_type": "stream",
     "text": [
      "Donner un mot salamoualeykoum\n",
      "15\n"
     ]
    }
   ],
   "source": [
    "char=input(\"Donner un mot \")\n",
    "n=len(char)\n",
    "print(n)"
   ]
  },
  {
   "cell_type": "markdown",
   "metadata": {
    "id": "QGb8rYYT8aET"
   },
   "source": [
    "#### **Exercice 10:** \n",
    "> **FR: Écrivez un programme pour vérifier si le mot \"orange\" est présent dans l'expression \"Ceci est du jus d'orange\".**\n",
    "\n",
    ">**EN: Write a program to check if the word \"orange\" is present in the expression \"This is orange juice\".**"
   ]
  },
  {
   "cell_type": "code",
   "execution_count": 36,
   "metadata": {
    "id": "uLC2XFSq8aEU"
   },
   "outputs": [
    {
     "name": "stdout",
     "output_type": "stream",
     "text": [
      "Le mot est dans l'espression\n"
     ]
    }
   ],
   "source": [
    "phrase=str(\"Ceci est du jus d\\' orange\")\n",
    "m=phrase.find(\"orange\")\n",
    "if (m!=-1):\n",
    "    print('Le mot est dans l\\'espression')\n",
    "else:\n",
    "    print('Le mot n\\'est pas dans l\\'expression')"
   ]
  },
  {
   "cell_type": "markdown",
   "metadata": {
    "id": "F4_j1vsN8aEU"
   },
   "source": [
    "#### **Exercice 11:** \n",
    "> **FR: Ecrivez un programme pour trouver la première et la dernière occurrence de la lettre 'o' et du caractère ',' dans \"Hello, World\".**\n",
    "\n",
    "> **EN: Write a program to find the first and last occurrence of the letter 'o' and the character ',' in \"Hello, World\".**"
   ]
  },
  {
   "cell_type": "code",
   "execution_count": null,
   "metadata": {
    "id": "GAMvzqzX8aEV"
   },
   "outputs": [],
   "source": []
  },
  {
   "cell_type": "markdown",
   "metadata": {
    "id": "r_CQjIqd8aEW"
   },
   "source": [
    "#### **Exercice 12:** \n",
    "> **FR: Écrivez un programme qui prend votre nom complet en entrée et affiche les abréviations du prénom et du second prénom, sauf le nom de famille qui est affiché tel quel. Par exemple, si votre nom est `Robert Brett Roser`, le résultat devrait être `R.B.Roser`.**\n",
    "\n",
    ">**EN: Write a program that takes your full name as input and displays the first and middle name abbreviations, except for the last name which is displayed as is. For example, if your name is `Robert Brett Roser`, the result should be `R.B.Roser`.**"
   ]
  },
  {
   "cell_type": "code",
   "execution_count": 3,
   "metadata": {
    "id": "NNWynb7Y8aEW"
   },
   "outputs": [
    {
     "name": "stdout",
     "output_type": "stream",
     "text": [
      "Donner le prenom et le nom : Babacar Diaw\n",
      "B.Diaw\n"
     ]
    }
   ],
   "source": [
    "prenomnom=input(\"Donner le prenom et le nom : \")\n",
    "prenom=prenomnom.split()[0]\n",
    "nom1=prenomnom.split()[1]\n",
    "n=len(prenom)\n",
    "newprenom=prenom.replace(prenom[1:],\".\")\n",
    "print(newprenom+nom1)\n"
   ]
  },
  {
   "cell_type": "markdown",
   "metadata": {
    "id": "2DkugJeo8aEW"
   },
   "source": [
    "#### **Exercice 13:** \n",
    "> **FR: Écrivez un programme pour trouver le plus grand et le plus petit mot dans la chaîne \"Ceci est un parapluie\".** \n",
    "\n",
    ">**EN: Write a program to find the largest and smallest words in the string \"This is an umbrella\".**"
   ]
  },
  {
   "cell_type": "code",
   "execution_count": 26,
   "metadata": {
    "id": "NxVgnPk-8aEW"
   },
   "outputs": [
    {
     "name": "stdout",
     "output_type": "stream",
     "text": [
      "le plus grand mot est  parapluie\n",
      "le plus petit nombre est  un\n"
     ]
    }
   ],
   "source": [
    "back=\"Ceci est un parapluie\"\n",
    "c0=back.split()[0]\n",
    "c1=back.split()[1]\n",
    "c2=back.split()[2]\n",
    "c3=back.split()[3]\n",
    "n=len(c0)\n",
    "m=len(c1)\n",
    "o=len(c2)\n",
    "p=len(c3)\n",
    "l=max(n,m,o,p)\n",
    "k=min(n,m,o,p)\n",
    "if (l==m):\n",
    "    print('le plus grand mot est ',c0)\n",
    "elif (l==n):\n",
    "    print('le plus grand mot est ',c1)\n",
    "elif (l==o):\n",
    "    print('le plus grand mot est ',c2)\n",
    "elif (l==p):\n",
    "    print('le plus grand mot est ',c3)\n",
    "if (k==m):\n",
    "    print('le plus petit mot est',c0)\n",
    "elif (k==n):\n",
    "    print('le plus petit mot est',c1)\n",
    "elif (k==o):\n",
    "    print('le plus petit nombre est ',c2)\n",
    "elif (k==p):\n",
    "    print('le plus petit nombre est ',c3)    \n",
    "        \n",
    "          "
   ]
  },
  {
   "cell_type": "markdown",
   "metadata": {
    "id": "BOXwh7TP8aEW"
   },
   "source": [
    "#### **Exercice 14:** \n",
    "> **FR: Écrivez un programme pour créer une nouvelle chaîne de caractères avec le mot `le` supprimé dans la phrase `C'est le lion dans la cage`.**\n",
    "\n",
    ">**EN: Write a program to create a new string with the word `the` deleted in the sentence `This is the lion in the cage`.**"
   ]
  },
  {
   "cell_type": "code",
   "execution_count": 10,
   "metadata": {
    "id": "EDkYOKMb8aEX"
   },
   "outputs": [
    {
     "name": "stdout",
     "output_type": "stream",
     "text": [
      "C'est  lion dans la cage\n"
     ]
    }
   ],
   "source": [
    "char=\"C\\'est le lion dans la cage\"\n",
    "new=char.replace(\"le\",\"\")\n",
    "print(new)\n"
   ]
  },
  {
   "cell_type": "markdown",
   "metadata": {
    "id": "yh9w0U9j8aEX"
   },
   "source": [
    "#### **Exercice 14:** \n",
    "> **FR:Créez un programme qui demande à l'utilisateur d'entrer son nom et son âge en 2021. Imprimez un message qui lui est adressé et qui lui indique l'année où il aura 100 ans.**\n",
    "\n",
    ">**EN: Create a program that asks the user to enter their name and age in 2021. Print a message to the user that tells them the year they will be 100 years old.**"
   ]
  },
  {
   "cell_type": "code",
   "execution_count": 68,
   "metadata": {
    "id": "GvFyoDRa8aEY"
   },
   "outputs": [
    {
     "name": "stdout",
     "output_type": "stream",
     "text": [
      "Donnez votre nom babacar diaw\n",
      "Donner votre age 25\n",
      "bonjour, babacar diaw vous aurez 100 ans en  2096\n"
     ]
    }
   ],
   "source": [
    "x=str(input(\"Donnez votre nom \"))\n",
    "y=int(input(\"Donner votre age \"))\n",
    "k=100-y\n",
    "m=2021+k\n",
    "print(\"bonjour,\",x,\"vous aurez 100 ans en \",m)"
   ]
  },
  {
   "cell_type": "markdown",
   "metadata": {
    "id": "2-Sc_vhb8aEY"
   },
   "source": [
    "#### **Exercice 15:** \n",
    "> **FR:Définissez la variable `x` comme la chaîne de caractères `x`= \"abcde\" .**\n",
    ">1. **Quelle est la valuer de 3*x?**\n",
    ">2. **Quelle est la valuer de x[1]?**\n",
    ">3. **Quelle est la valuer de x[-1]?**\n",
    ">4. **Quelle est la valuer de x[::2]?**\n",
    "\n",
    ">**EN: Set the variable `x` as the string `x`=\"abcde\" .**.\n",
    ">1. **What is the value of 3*x?**\n",
    ">2. **What is the value of x[1]?**\n",
    ">3. **What is the value of x[-1]?**.\n",
    ">4. **What is the value of x[::2]?**"
   ]
  },
  {
   "cell_type": "code",
   "execution_count": 84,
   "metadata": {
    "id": "E9WabTUf8aEZ"
   },
   "outputs": [
    {
     "name": "stdout",
     "output_type": "stream",
     "text": [
      "abcdeabcdeabcde\n",
      "b\n",
      "e\n",
      "ace\n"
     ]
    }
   ],
   "source": [
    "x=\"abcde\"\n",
    "print(3*x)\n",
    "print(x[1])\n",
    "print(x[-1])\n",
    "print(x[::2])"
   ]
  },
  {
   "cell_type": "markdown",
   "metadata": {
    "id": "sFtnj29L8aEa"
   },
   "source": [
    "#### **Exercice 16:** \n",
    ">**FR:Créez une chaîne unique contenant 5 copies de la chaîne 'abc'.**\n",
    "\n",
    ">**EN:Create a single string containing 5 copies of the string 'abc'.**"
   ]
  },
  {
   "cell_type": "code",
   "execution_count": 83,
   "metadata": {
    "id": "BJ12q8Dp8aEb"
   },
   "outputs": [
    {
     "name": "stdout",
     "output_type": "stream",
     "text": [
      "abcabcabcabcabc\n"
     ]
    }
   ],
   "source": [
    "print('abc'*5)"
   ]
  },
  {
   "cell_type": "markdown",
   "metadata": {
    "id": "OmIC91BU8aEc"
   },
   "source": [
    "#### **Exercice 17:** \n",
    ">**FR:Utilisez l'opérateur de multiplication pour créer une \"ligne\" de 50 tirets.**\n",
    "\n",
    ">**EN:Use the multiplication operator to create a \"line\" of 50 dashes.**"
   ]
  },
  {
   "cell_type": "code",
   "execution_count": 82,
   "metadata": {
    "id": "9ruTWtlx8aEe"
   },
   "outputs": [
    {
     "name": "stdout",
     "output_type": "stream",
     "text": [
      "--------------------------------------------------\n"
     ]
    }
   ],
   "source": [
    "print('-'*50)"
   ]
  },
  {
   "cell_type": "markdown",
   "metadata": {
    "id": "Y8H6ln1_8aEi"
   },
   "source": [
    "#### **Exercice 18:** \n",
    ">**FR: Ecrire un programme qui demande a l'utilisateur d'entrer la temperature en degres celsius et qui retourne la temperaure en degre Fahrenheit. Formule: (0°C × 9/5) + 32 = 32°F .**\n",
    "\n",
    ">**EN: Write a program that asks the user to enter the temperature in degrees Celsius and returns the temperature in degrees Fahrenheit. Formula: (0°C × 9/5) + 32 = 32°F .**"
   ]
  },
  {
   "cell_type": "code",
   "execution_count": 81,
   "metadata": {
    "id": "6WTyRFR08aEj"
   },
   "outputs": [
    {
     "name": "stdout",
     "output_type": "stream",
     "text": [
      "Donnez la temperature en degre celcus : 110\n",
      "la temperature en degre fahrenheit est :  230.0\n"
     ]
    }
   ],
   "source": [
    "temp=float(input('Donnez la temperature en degre celcus : '))\n",
    "farh=(temp*9/5)+32\n",
    "print('la temperature en degre fahrenheit est : ',farh)"
   ]
  },
  {
   "cell_type": "markdown",
   "metadata": {
    "id": "nFg9Kr2q8aEk"
   },
   "source": [
    "\n",
    "\n",
    "<center> <b> <span style=\"color:orange;\"> 🎉 FÉLICITATIONS! / CONGRATULATIONS! 🎉 </span> </b></center>"
   ]
  }
 ],
 "metadata": {
  "colab": {
   "name": "Exercices_01_Chaînes-de-caractères.ipynb",
   "provenance": []
  },
  "kernelspec": {
   "display_name": "Python 3",
   "language": "python",
   "name": "python3"
  },
  "language_info": {
   "codemirror_mode": {
    "name": "ipython",
    "version": 3
   },
   "file_extension": ".py",
   "mimetype": "text/x-python",
   "name": "python",
   "nbconvert_exporter": "python",
   "pygments_lexer": "ipython3",
   "version": "3.6.9"
  }
 },
 "nbformat": 4,
 "nbformat_minor": 1
}
