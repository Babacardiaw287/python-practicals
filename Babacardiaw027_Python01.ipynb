{
 "cells": [
  {
   "cell_type": "markdown",
   "metadata": {},
   "source": [
    "1. Compute the following expressions for a natural number n chosen by the user:"
   ]
  },
  {
   "cell_type": "code",
   "execution_count": 1,
   "metadata": {},
   "outputs": [
    {
     "name": "stdout",
     "output_type": "stream",
     "text": [
      "70\n"
     ]
    }
   ],
   "source": [
    "n=16\n",
    "som=0\n",
    "for i in range(0,n-1):\n",
    "    if (i%2!=0):\n",
    "        som=som+(i+3)\n",
    "print(som)  "
   ]
  },
  {
   "cell_type": "code",
   "execution_count": 2,
   "metadata": {},
   "outputs": [
    {
     "name": "stdout",
     "output_type": "stream",
     "text": [
      "10395\n"
     ]
    }
   ],
   "source": [
    "m=10\n",
    "prod=1\n",
    "for i in range(0,m-1):\n",
    "    if (i%2==0):\n",
    "        prod=prod*(i+3)\n",
    "print(prod)    \n"
   ]
  },
  {
   "cell_type": "markdown",
   "metadata": {},
   "source": [
    "2. Write a program that reads the number of the day of the week (from 0 to 6). If it is a\n",
    "working day, then the program will write the name of the corresponding day. Otherwise,\n",
    "it will write the word \"Weekend\"."
   ]
  },
  {
   "cell_type": "code",
   "execution_count": 10,
   "metadata": {},
   "outputs": [
    {
     "name": "stdout",
     "output_type": "stream",
     "text": [
      "Donnez le numéro du jour de la semaine entre 0 et 6 : 4\n",
      "woorking  jeudi\n"
     ]
    }
   ],
   "source": [
    "n=int(input(\"Donnez le numéro du jour de la semaine entre 0 et 6 : \"))\n",
    "day=[\"dimanche\", \"luni\", \"mardi\", \"mercredi\", \"jeudi\", \"vendredi\", \"samedi\"]\n",
    "while (n<0) or (n>6):\n",
    "    day=int(input(\"Donnez un numéro compris entre 0 et 6 : \"))\n",
    "if n in range(1,6):\n",
    "    print(\"woorking \",day[n])\n",
    "else:\n",
    "    print(\"Weekend\")"
   ]
  },
  {
   "cell_type": "markdown",
   "metadata": {},
   "source": [
    "3. Make a program that, given a month number (from 0 to 11), indicates how many days it\n",
    "has (28, 30 or 31), ignoring the leap years."
   ]
  },
  {
   "cell_type": "code",
   "execution_count": 14,
   "metadata": {},
   "outputs": [
    {
     "name": "stdout",
     "output_type": "stream",
     "text": [
      "donner un numéro de mois : 2\n",
      "ferier a 31 jours\n"
     ]
    }
   ],
   "source": [
    "n=int(input(\"donner un numéro de mois : \"))\n",
    "mois=['Janvier', 'fevrier', 'Mars', 'Avril', 'Mai', 'Juin', 'Juillet', 'Aout', 'Septembre', 'Octobre', 'Novembre', 'Decembre']\n",
    "if (n==1):\n",
    "    print(mois[n-1],'a 28 jours')\n",
    "elif (n==3) or (n==5) or (n==8) or (n==10):\n",
    "    print(mois[n-1], 'a 30 jours')\n",
    "elif (n==0) or (n==2) or (n==4) or (n==6) or (n==7) or (n==9) or (n==11):\n",
    "    print(mois[n-1], 'a 31 jours')"
   ]
  },
  {
   "cell_type": "markdown",
   "metadata": {},
   "source": [
    "4. Write two versions of python code that displays your name 3 times. One version with a\n",
    "\"for loop\" and another version with a \"while loop\"."
   ]
  },
  {
   "cell_type": "code",
   "execution_count": 6,
   "metadata": {},
   "outputs": [
    {
     "name": "stdout",
     "output_type": "stream",
     "text": [
      "Donnez votre nom : Babacar diaw\n",
      "Babacar diaw\n",
      "Babacar diaw\n",
      "Babacar diaw\n"
     ]
    }
   ],
   "source": [
    "name=input(\"Donnez votre nom : \")\n",
    "for i in range(0,3):\n",
    "    print(name)"
   ]
  },
  {
   "cell_type": "code",
   "execution_count": 7,
   "metadata": {},
   "outputs": [
    {
     "name": "stdout",
     "output_type": "stream",
     "text": [
      "Donnez votre nom : babacar diaw\n",
      "babacar diaw\n",
      "babacar diaw\n",
      "babacar diaw\n"
     ]
    }
   ],
   "source": [
    "name=input(\"Donnez votre nom : \")\n",
    "i=1\n",
    "while i<=3:\n",
    "    print(name)\n",
    "    i=i+1"
   ]
  },
  {
   "cell_type": "markdown",
   "metadata": {},
   "source": [
    "5. Given two numbers a 0 and a 1 , the Fibonacci sequence they generate is constructed from the recursion formula $a_{n+1} = a_n + a_{n−1}$ . Calculate the first 15 terms of a Fibonacci sequence, asking the user the initial values."
   ]
  },
  {
   "cell_type": "code",
   "execution_count": 32,
   "metadata": {},
   "outputs": [
    {
     "name": "stdout",
     "output_type": "stream",
     "text": [
      "Donner le nombre de terme : 15\n",
      "Donner le 1er terme : 3\n",
      "Donner le 2nd terme : 5\n",
      "3\n",
      "5\n",
      "8\n",
      "13\n",
      "21\n",
      "34\n",
      "55\n",
      "89\n",
      "144\n",
      "233\n",
      "377\n",
      "610\n",
      "987\n",
      "1597\n",
      "2584\n"
     ]
    }
   ],
   "source": [
    "nbr=int(input(\"Donner le nombre de terme : \"))\n",
    "while nbr <= 0:\n",
    "    nbr=int(input(\"Donner un nombre positif : \"))\n",
    "x=int(input(\"Donner le 1er terme : \"))\n",
    "y=int(input(\"Donner le 2nd terme : \"))\n",
    "i = 0                \n",
    "if nbr == 1:\n",
    "    print(x)\n",
    "else:\n",
    "    while i < nbr:\n",
    "        print(x)\n",
    "        z = x + y\n",
    "        x = y\n",
    "        y = z\n",
    "        i += 1"
   ]
  },
  {
   "cell_type": "markdown",
   "metadata": {},
   "source": [
    "6. Compute the first 30 terms of the sequence defined by 2x n+2 − x n+1 − 6x n = 0 sequence,\n",
    "given any two initial values x 0 and x 1"
   ]
  },
  {
   "cell_type": "code",
   "execution_count": 21,
   "metadata": {},
   "outputs": [
    {
     "name": "stdout",
     "output_type": "stream",
     "text": [
      "Donnez le nombre de terme 30\n",
      "Valeur initiale x0 1\n",
      " Valeur x1 4\n",
      "1\n",
      "4\n",
      "5.0\n",
      "14.5\n",
      "22.25\n",
      "54.625\n",
      "94.0625\n",
      "210.90625\n",
      "387.640625\n",
      "826.5390625\n",
      "1576.19140625\n",
      "3267.712890625\n",
      "6362.4306640625\n",
      "12984.35400390625\n",
      "25579.468994140625\n",
      "51742.79650878906\n",
      "102609.8052368164\n",
      "206533.2921447754\n",
      "411096.0617828369\n",
      "825147.9073257446\n",
      "1645862.139011383\n",
      "3298374.7914829254\n",
      "6586773.812775612\n",
      "13188511.280836582\n",
      "26354577.078745127\n",
      "52742822.38188231\n",
      "105435142.42717654\n",
      "210946038.3592352\n",
      "421778446.4611472\n",
      "843727338.3082793\n"
     ]
    }
   ],
   "source": [
    "nbre = int(input(\"Donnez le nombre de terme \"))\n",
    "while (nbre <= 0):\n",
    "    nbre = int(input(\"Donnez le nombre de terme, il doit etre positif\"))\n",
    "x_0=int(input('Valeur initiale x0 '))\n",
    "x_1=int(input(' Valeur x1 '))\n",
    "i=0\n",
    "if nbre == 1:\n",
    "    print(x_0)\n",
    "else:\n",
    "    while i < nbre:\n",
    "        print(x_0)\n",
    "        x_n = (6*x_0 + x_1)/2\n",
    "        x_0 = x_1\n",
    "        x_1 = x_n\n",
    "        i += 1"
   ]
  },
  {
   "cell_type": "markdown",
   "metadata": {},
   "source": [
    "7.\n",
    "a) Write python code to determine whether or not a year is a leap year. Be sure you know what a leap year is."
   ]
  },
  {
   "cell_type": "code",
   "execution_count": 34,
   "metadata": {},
   "outputs": [
    {
     "name": "stdout",
     "output_type": "stream",
     "text": [
      "Donnez l'année: 2021\n",
      "Faux\n"
     ]
    }
   ],
   "source": [
    "annee=int(input(\"Donnez l'année: \"))\n",
    "if(annee%4==0 and annee%100!=0 or annee%400==0):\n",
    "    print(\"Vrai\")\n",
    "else:\n",
    "    print(\"Faux\")"
   ]
  },
  {
   "cell_type": "markdown",
   "metadata": {},
   "source": [
    "8.\n",
    "a) Write python code that computes the sum of the square of the first n natural numbers. One version with a \"for loop\" and another version with a \"while loop\".\n",
    "\n",
    "b) Write python code that prints, for a natural number M , the smallest natural number n such that $1^2 + 2^2 + \\cdots + n^2 ≥ M$. One version with a \"for loop\" and another version\n",
    "with a \"while loop\"."
   ]
  },
  {
   "cell_type": "code",
   "execution_count": 1,
   "metadata": {},
   "outputs": [
    {
     "name": "stdout",
     "output_type": "stream",
     "text": [
      "Donnez un entier naturel: 7\n",
      "140\n"
     ]
    }
   ],
   "source": [
    "n=int(input(\"Donnez un entier naturel: \"))\n",
    "somme = 0\n",
    "for i in range(n+1):\n",
    "        somme = somme + i**2\n",
    "print(somme)"
   ]
  },
  {
   "cell_type": "code",
   "execution_count": 2,
   "metadata": {},
   "outputs": [
    {
     "name": "stdout",
     "output_type": "stream",
     "text": [
      " Donnez un entier naturel: 7\n",
      "140\n"
     ]
    }
   ],
   "source": [
    "n=int(input(\" Donnez un entier naturel: \"))\n",
    "i=0;\n",
    "somme=0\n",
    "while (i<=n):\n",
    "    somme=somme+i**2\n",
    "    i=i+1\n",
    "print(somme)  "
   ]
  },
  {
   "cell_type": "markdown",
   "metadata": {},
   "source": [
    "9.\n",
    "a) Write python code that prints all the divisors of a given natural number.\n",
    "\n",
    "b) Read an integer number input by the user and calculate its prime factors. This will\n",
    "just be some of its divisors."
   ]
  },
  {
   "cell_type": "code",
   "execution_count": 3,
   "metadata": {},
   "outputs": [
    {
     "name": "stdout",
     "output_type": "stream",
     "text": [
      " Donnez un entier naturel : 4\n",
      "1\n",
      "2\n",
      "4\n"
     ]
    }
   ],
   "source": [
    "n=int(input(\" Donnez un entier naturel : \"))\n",
    "i=1\n",
    "while (i<=n):\n",
    "    if (n%i==0):\n",
    "        print(i)\n",
    "    i=i+1"
   ]
  },
  {
   "cell_type": "code",
   "execution_count": 9,
   "metadata": {},
   "outputs": [
    {
     "name": "stdout",
     "output_type": "stream",
     "text": [
      "Donnez un entier naturel : 330\n",
      "2\n",
      "3\n",
      "5\n",
      "11\n"
     ]
    }
   ],
   "source": [
    "n=int(input(\"Donnez un entier naturel : \"))\n",
    "i=1\n",
    "while (i<=n):\n",
    "    l=0\n",
    "    if (n%i==0):\n",
    "        k=1\n",
    "        while (k<=i):\n",
    "            if(i%k==0):\n",
    "                l=l+1\n",
    "            k=k+1\n",
    "        if (l==2):\n",
    "            print(i)\n",
    "    i=i+1 "
   ]
  },
  {
   "cell_type": "markdown",
   "metadata": {},
   "source": [
    "10. Read an integer number between n 0 and 9 and print its multiplication table up to N where N is another another natural number read by the program."
   ]
  },
  {
   "cell_type": "code",
   "execution_count": 11,
   "metadata": {},
   "outputs": [
    {
     "name": "stdout",
     "output_type": "stream",
     "text": [
      "Donnez un entier compris entre 0 et 94\n",
      "Donnez un autre entier N 6\n",
      "4 * 1 = 4\n",
      "4 * 2 = 8\n",
      "4 * 3 = 12\n",
      "4 * 4 = 16\n",
      "4 * 5 = 20\n",
      "4 * 6 = 24\n"
     ]
    }
   ],
   "source": [
    "n=int(input(\"Donnez un entier compris entre 0 et 9\"))\n",
    "while (n<0) or (n>9):\n",
    "    n=int(input(\"Donnez un entier compris entre 0 et 9\"))\n",
    "N=int(input(\"Donnez un autre entier N \"))\n",
    "i=1\n",
    "while (i<=N):\n",
    "    print(n, '*', i, '=', n*i)\n",
    "    i=i+1"
   ]
  },
  {
   "cell_type": "markdown",
   "metadata": {},
   "source": [
    "11. Write a program that prints all the numbers between 0 and 40 that are multiples of 3, 7 or 11."
   ]
  },
  {
   "cell_type": "code",
   "execution_count": 12,
   "metadata": {},
   "outputs": [
    {
     "name": "stdout",
     "output_type": "stream",
     "text": [
      "0\n",
      "3\n",
      "6\n",
      "7\n",
      "9\n",
      "11\n",
      "12\n",
      "14\n",
      "15\n",
      "18\n",
      "21\n",
      "22\n",
      "24\n",
      "27\n",
      "28\n",
      "30\n",
      "33\n",
      "35\n",
      "36\n",
      "39\n"
     ]
    }
   ],
   "source": [
    "for x in range(0,40):\n",
    "    if(x%3==0 or x%7==0 or x%11==0):\n",
    "        print(x)"
   ]
  },
  {
   "cell_type": "markdown",
   "metadata": {},
   "source": [
    "12. Write python code that prints the floor of a float x. Recall that the floor of a float x is the largest integer value less than or equal to x, i.e. if $E[x]$ is the floor of x, then it satisfies,\n",
    "$$E[x] = 1 + E[x − 1]$$"
   ]
  },
  {
   "cell_type": "code",
   "execution_count": 13,
   "metadata": {},
   "outputs": [
    {
     "name": "stdout",
     "output_type": "stream",
     "text": [
      "Enter a float: 3453.24355\n",
      "3453\n"
     ]
    }
   ],
   "source": [
    "import math as m\n",
    "x = float(input(\"Enter a float: \"))\n",
    "y=m.floor(x)\n",
    "print(y)"
   ]
  },
  {
   "cell_type": "markdown",
   "metadata": {},
   "source": [
    "13. Given a point in the plane by its Cartesian coordinates, determine in which quadrant it is (1st, 2nd, 3rd, 4th), if it lies on an axis, or if it is the origin. Do this for several points in the same execution of the program until the user quits."
   ]
  },
  {
   "cell_type": "code",
   "execution_count": null,
   "metadata": {},
   "outputs": [],
   "source": []
  },
  {
   "cell_type": "markdown",
   "metadata": {},
   "source": [
    "14. Ask for an integer number between 0 and 9, denoted x. Once the user has entered a correct number (that is one in the range [0..10)) the program asks for a second integer number between 0 and 255, denoted max. The program continues asking for the number until it is correct (that it is in the range [0..256)). When this is done, show all multiples of x that\n",
    "are between 0 and max. Then, ask the user whether he/she wants to continue; if in the affirmative, ask for another couple of numbers, otherwise finish."
   ]
  },
  {
   "cell_type": "code",
   "execution_count": 3,
   "metadata": {},
   "outputs": [
    {
     "name": "stdout",
     "output_type": "stream",
     "text": [
      "Donnez un entier compris entre 0 et 9 : 2\n",
      "Donnez un entier compris entre 0 et 255 : 222\n",
      "[2, 4, 6, 8, 10, 12, 14, 16, 18, 20, 22, 24, 26, 28, 30, 32, 34, 36, 38, 40, 42, 44, 46, 48, 50, 52, 54, 56, 58, 60, 62, 64, 66, 68, 70, 72, 74, 76, 78, 80, 82, 84, 86, 88, 90, 92, 94, 96, 98, 100, 102, 104, 106, 108, 110, 112, 114, 116, 118, 120, 122, 124, 126, 128, 130, 132, 134, 136, 138, 140, 142, 144, 146, 148, 150, 152, 154, 156, 158, 160, 162, 164, 166, 168, 170, 172, 174, 176, 178, 180, 182, 184, 186, 188, 190, 192, 194, 196, 198, 200, 202, 204, 206, 208, 210, 212, 214, 216, 218, 220, 222]\n",
      "Tape Y pour continuer ou N pour stopper : Y\n",
      "Continue\n",
      "Donnez un entier compris entre 0 et 9 : 7\n",
      "Donnez un entier compris entre 0 et 255 : 120\n",
      "[7, 14, 21, 28, 35, 42, 49, 56, 63, 70, 77, 84, 91, 98, 105, 112, 119]\n",
      "Tape Y pour continuer ou N pour stopper : N\n",
      "Arret\n"
     ]
    }
   ],
   "source": [
    "while True:\n",
    "    x=int(input(\"Donnez un entier compris entre 0 et 9 : \"))\n",
    "    while (x<0) and (x>9):\n",
    "         x= int(input(\"Donnez un entier compris entre 0 et 9 : \"))\n",
    "    Max= int(input(\"Donnez un entier compris entre 0 et 255 : \"))     \n",
    "    while (Max<0) and (Max>255):\n",
    "         Max= int(input(\"Donnez un entier compris entre 0 et 255 : \"))\n",
    "    t=[]\n",
    "    for i in range(1, Max+1):\n",
    "        if (i%x==0):\n",
    "            t.append(i)\n",
    "    print(t)\n",
    "    decision= input(\"Tape Y pour continuer ou N pour stopper : \")\n",
    "    if (decision==\"Y\"):\n",
    "        print(\"Continue\")\n",
    "    else:\n",
    "        print(\"Arret\")\n",
    "        break"
   ]
  },
  {
   "cell_type": "code",
   "execution_count": null,
   "metadata": {},
   "outputs": [],
   "source": []
  }
 ],
 "metadata": {
  "kernelspec": {
   "display_name": "Python 3",
   "language": "python",
   "name": "python3"
  },
  "language_info": {
   "codemirror_mode": {
    "name": "ipython",
    "version": 3
   },
   "file_extension": ".py",
   "mimetype": "text/x-python",
   "name": "python",
   "nbconvert_exporter": "python",
   "pygments_lexer": "ipython3",
   "version": "3.7.3"
  }
 },
 "nbformat": 4,
 "nbformat_minor": 2
}
