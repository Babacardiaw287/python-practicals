{
 "cells": [
  {
   "cell_type": "markdown",
   "metadata": {
    "id": "12_fdbLn8p4A"
   },
   "source": [
    "\n",
    "\n",
    "    \n",
    "#    <center> <b> <span style=\"color:orange;\" >  `Python for Scientific Computing and Software Engineering ` </span> </b></center>\n",
    "\n",
    "\n",
    "## <center> <b> <span style=\"color:orange;\"> An Initiation to Programming using Python (Init2Py) </span> </b></center>\n",
    "\n",
    "### <center> <b> <span style=\"color:blue;\"> Travaux Pratiques: Objets itérables ou conteneurs</span> </b></center>\n"
   ]
  },
  {
   "cell_type": "markdown",
   "metadata": {
    "id": "E_ZB23H68p4D"
   },
   "source": [
    "###  <center> <b> <span style=\"color:blue;\"> Listes </span> </b></center>"
   ]
  },
  {
   "cell_type": "markdown",
   "metadata": {
    "id": "H0cIcjGk8p4G"
   },
   "source": [
    "#### **Exercice 00:** \n",
    ">**Déclarer une liste vide.**"
   ]
  },
  {
   "cell_type": "code",
   "execution_count": 108,
   "metadata": {
    "id": "45QEMilz8p4I"
   },
   "outputs": [],
   "source": [
    "x=[]"
   ]
  },
  {
   "cell_type": "markdown",
   "metadata": {
    "id": "zZ0XnwpB8p4J"
   },
   "source": [
    "#### **Exercice 01:** \n",
    ">**Déclarer une liste de plus de 5 éléments.**"
   ]
  },
  {
   "cell_type": "code",
   "execution_count": 109,
   "metadata": {
    "id": "HV32hLfA8p4L"
   },
   "outputs": [
    {
     "data": {
      "text/plain": [
       "[0, 1, 2, 3, 4, 5, 6]"
      ]
     },
     "execution_count": 109,
     "metadata": {},
     "output_type": "execute_result"
    }
   ],
   "source": [
    "y=range(7)\n",
    "list(y)"
   ]
  },
  {
   "cell_type": "markdown",
   "metadata": {
    "id": "tJpy6kNz8p4M"
   },
   "source": [
    "#### **Exercice 02:** \n",
    ">**Trouver la longueur de votre liste.**"
   ]
  },
  {
   "cell_type": "code",
   "execution_count": 110,
   "metadata": {
    "id": "627A_RNw8p4O"
   },
   "outputs": [
    {
     "name": "stdout",
     "output_type": "stream",
     "text": [
      "7\n"
     ]
    }
   ],
   "source": [
    "n=len(y)\n",
    "print(n)"
   ]
  },
  {
   "cell_type": "markdown",
   "metadata": {
    "id": "unFrwT5t8p4Q"
   },
   "source": [
    "#### **Exercice 03:** \n",
    ">**Obtenez le premier élément, l'élément central et le dernier élément de la liste.**\n",
    "\n"
   ]
  },
  {
   "cell_type": "code",
   "execution_count": 111,
   "metadata": {
    "id": "MUuc1gaQ8p4R"
   },
   "outputs": [
    {
     "name": "stdout",
     "output_type": "stream",
     "text": [
      "0\n",
      "3\n",
      "6\n"
     ]
    }
   ],
   "source": [
    "print(y[0])\n",
    "print(y[int((n-1)/2)])\n",
    "print(y[n-1])"
   ]
  },
  {
   "cell_type": "markdown",
   "metadata": {
    "id": "4Rqp8q0L8p4R"
   },
   "source": [
    "#### **Exercice 04:** \n",
    ">**Déclarez une liste appelée mixed_data_types, mettez votre (nom, âge, taille, état civil, adresse).**"
   ]
  },
  {
   "cell_type": "code",
   "execution_count": 112,
   "metadata": {
    "id": "EoZPW2UH8p4S"
   },
   "outputs": [
    {
     "data": {
      "text/plain": [
       "list"
      ]
     },
     "execution_count": 112,
     "metadata": {},
     "output_type": "execute_result"
    }
   ],
   "source": [
    "mixed_data_types = ['Babacar',28,'1m75','homme','Dakar']\n",
    "type(mixed_data_types)"
   ]
  },
  {
   "cell_type": "markdown",
   "metadata": {
    "id": "OPYSNV1l8p4T"
   },
   "source": [
    "#### **Exercice 05:** \n",
    "\n",
    "    1. Déclarez une variable liste appelée it_companies et attribuez les valeurs initiales Facebook, Google, Microsoft, Apple, IBM, Oracle et Amazon.\n",
    "\n",
    "    2. Imprimez la liste à l'aide de print()\n",
    "\n",
    "    3. Imprimez le nombre d'entreprises dans la liste\n",
    "\n",
    "    4. Imprimez la première, la moyenne et la dernière entreprise\n",
    "\n",
    "    5. Imprimez la liste après avoir modifié l'une des entreprises.\n",
    "\n",
    "    6. Ajout d'une entreprise informatique à it_companies\n",
    "\n",
    "    7. Insérer une entreprise informatique au milieu de la liste des entreprises\n",
    "\n",
    "    8. Changez le nom d'une des it_companies en majuscule (sauf IBM !)\n",
    "\n",
    "    9. Joignez les it_companies avec une chaîne '# ; '.\n",
    "\n",
    "    10. Vérifier si une certaine entreprise existe dans la liste it_companies.\n",
    "\n",
    "    11. Trier la liste en utilisant la méthode sort()\n",
    "\n",
    "    12. Inversez la liste par ordre décroissant à l'aide de la méthode reverse().\n",
    "\n",
    "    13. Supprimez les 3 premières entreprises de la liste.\n",
    "\n",
    "    14. Supprimez les 3 dernières entreprises de la liste.\n",
    "\n",
    "    15. Supprimez la ou les entreprises informatiques du milieu de la liste.\n",
    "\n",
    "    16. Supprimez la première entreprise informatique de la liste\n",
    "\n",
    "    17. Supprimez la ou les entreprises informatiques du milieu de la liste.\n",
    "\n",
    "    18. Retirer la dernière entreprise informatique de la liste\n",
    "\n",
    "    19. Supprimez toutes les entreprises informatiques de la liste\n",
    "\n",
    "    20. Détruire la liste des entreprises informatiques"
   ]
  },
  {
   "cell_type": "code",
   "execution_count": 113,
   "metadata": {
    "id": "4M_XODba8p4V"
   },
   "outputs": [
    {
     "name": "stdout",
     "output_type": "stream",
     "text": [
      "['facebook', 'Google', 'Microsoft', 'Apple', 'IBM', 'Oracle', 'Amazon']\n",
      "-----------------------------------------------------------------------\n",
      "La longueur est :  7\n",
      "------------------------------------------------------------------------\n",
      "facebook Apple Amazon\n",
      "------------------------------------------------------------------------\n",
      "['facebook', 'Google', 'Microsoft', 'Apple', 'mycompa', 'Oracle', 'Amazon']\n",
      "--------------------------------------------------------------------------\n",
      "['facebook', 'Google', 'Microsoft', 'Apple', 'mycompa', 'Oracle', 'Amazon', 'Aims']\n",
      "--------------------------------------------------------------------------\n",
      "['facebook', 'Google', 'Microsoft', 'Senegal', 'Apple', 'mycompa', 'Oracle', 'Amazon', 'Aims']\n",
      "----------------------------------------------------------------------------\n",
      "MICROSOFT\n",
      "--------------------------------------------------------------------------\n",
      "Google est dans la liste\n",
      "------------------------------------------------------------------------\n",
      "['Aims', 'Amazon', 'Apple', 'Google', 'Microsoft', 'Oracle', 'Senegal', 'facebook', 'mycompa']\n",
      "------------------------------------------------------------------------\n",
      "['mycompa', 'facebook', 'Senegal', 'Oracle', 'Microsoft', 'Google', 'Apple', 'Amazon', 'Aims']\n"
     ]
    }
   ],
   "source": [
    "it_companies=['facebook','Google','Microsoft','Apple','IBM','Oracle','Amazon']\n",
    "print(it_companies)\n",
    "print(\"-----------------------------------------------------------------------\")\n",
    "m=len(it_companies)\n",
    "print(\"La longueur est : \",m)\n",
    "print(\"------------------------------------------------------------------------\")\n",
    "print(it_companies[0],it_companies[int((n-1)/2)],it_companies[m-1])\n",
    "print(\"------------------------------------------------------------------------\")\n",
    "it_companies[4]='mycompa'\n",
    "print(it_companies)\n",
    "print(\"--------------------------------------------------------------------------\")\n",
    "it_companies.append('Aims')\n",
    "print(it_companies)\n",
    "print(\"--------------------------------------------------------------------------\")\n",
    "it_companies.insert(int((n-1)/2),'Senegal')\n",
    "print(it_companies)\n",
    "print(\"----------------------------------------------------------------------------\")\n",
    "majus=it_companies[2].upper()\n",
    "print(majus)\n",
    "print(\"--------------------------------------------------------------------------\")\n",
    "\n",
    "if 'Google' in it_companies:\n",
    "    print('Google est dans la liste')\n",
    "else:\n",
    "    print('Google n\\'est pas dans la liste')\n",
    "print(\"------------------------------------------------------------------------\")    \n",
    "it_companies.sort()   # Trier la liste\n",
    "print(it_companies)\n",
    "print(\"------------------------------------------------------------------------\")\n",
    "it_companies.reverse()\n",
    "print(it_companies)"
   ]
  },
  {
   "cell_type": "code",
   "execution_count": 114,
   "metadata": {},
   "outputs": [
    {
     "name": "stdout",
     "output_type": "stream",
     "text": [
      "['Apple', 'IBM', 'Oracle', 'Amazon']\n"
     ]
    }
   ],
   "source": [
    "# Supprimer les 3 premiers entreprises\n",
    "it_companies=['facebook','Google','Microsoft','Apple','IBM','Oracle','Amazon']\n",
    "del it_companies[0:3]\n",
    "print(it_companies)"
   ]
  },
  {
   "cell_type": "code",
   "execution_count": 115,
   "metadata": {},
   "outputs": [
    {
     "name": "stdout",
     "output_type": "stream",
     "text": [
      "['facebook', 'Google', 'Microsoft', 'Apple']\n"
     ]
    }
   ],
   "source": [
    "# Supprimer les 3 dernières entreprises\n",
    "it_companies=['facebook','Google','Microsoft','Apple','IBM','Oracle','Amazon']\n",
    "del it_companies[-3:]\n",
    "print(it_companies)"
   ]
  },
  {
   "cell_type": "code",
   "execution_count": 116,
   "metadata": {},
   "outputs": [
    {
     "name": "stdout",
     "output_type": "stream",
     "text": [
      "['facebook', 'Google', 'Microsoft', 'IBM', 'Oracle', 'Amazon']\n"
     ]
    }
   ],
   "source": [
    "#Supprimer l'entreprise aux milieux\n",
    "it_companies=['facebook','Google','Microsoft','Apple','IBM','Oracle','Amazon']\n",
    "del it_companies[int(len(it_companies)/2)]\n",
    "print(it_companies)"
   ]
  },
  {
   "cell_type": "code",
   "execution_count": 117,
   "metadata": {},
   "outputs": [
    {
     "name": "stdout",
     "output_type": "stream",
     "text": [
      "['Google', 'Microsoft', 'Apple', 'IBM', 'Oracle', 'Amazon']\n"
     ]
    }
   ],
   "source": [
    "#Supprimer la 1ere entreprise\n",
    "it_companies=['facebook','Google','Microsoft','Apple','IBM','Oracle','Amazon']\n",
    "del it_companies[0]\n",
    "print(it_companies)"
   ]
  },
  {
   "cell_type": "code",
   "execution_count": 118,
   "metadata": {},
   "outputs": [
    {
     "name": "stdout",
     "output_type": "stream",
     "text": [
      "['facebook', 'Google', 'Microsoft', 'Apple', 'IBM', 'Oracle']\n"
     ]
    }
   ],
   "source": [
    "# retirer la derniere entreprise\n",
    "it_companies=['facebook','Google','Microsoft','Apple','IBM','Oracle','Amazon']\n",
    "del it_companies[-1]\n",
    "print(it_companies)"
   ]
  },
  {
   "cell_type": "code",
   "execution_count": 119,
   "metadata": {},
   "outputs": [
    {
     "name": "stdout",
     "output_type": "stream",
     "text": [
      "[]\n"
     ]
    }
   ],
   "source": [
    "# Supprimer toutes les entreprises\n",
    "it_companies=['facebook','Google','Microsoft','Apple','IBM','Oracle','Amazon']\n",
    "del it_companies[0:]\n",
    "print(it_companies)"
   ]
  },
  {
   "cell_type": "code",
   "execution_count": 120,
   "metadata": {},
   "outputs": [
    {
     "name": "stdout",
     "output_type": "stream",
     "text": [
      "[]\n"
     ]
    }
   ],
   "source": [
    "# Détruire la liste\n",
    "it_companies=['facebook','Google','Microsoft','Apple','IBM','Oracle','Amazon']\n",
    "it_companies.clear()\n",
    "print(it_companies)"
   ]
  },
  {
   "cell_type": "markdown",
   "metadata": {
    "id": "AfauolZA8p4V"
   },
   "source": [
    "#### **Exercice 06:** \n",
    "**Joindre les listes suivantes :**\n",
    "     \n",
    "         front_end = ['HTML', 'CSS', 'JS', 'React', 'Redux']  \n",
    "         back_end = ['Node','Express', 'MongoDB']"
   ]
  },
  {
   "cell_type": "code",
   "execution_count": 121,
   "metadata": {
    "id": "6V8OXDSW8p4W"
   },
   "outputs": [
    {
     "data": {
      "text/plain": [
       "['HTML', 'CSS', 'JS', 'React', 'Redux', 'Node', 'Express', 'MongoDB']"
      ]
     },
     "execution_count": 121,
     "metadata": {},
     "output_type": "execute_result"
    }
   ],
   "source": [
    "front_end = ['HTML', 'CSS', 'JS', 'React', 'Redux']  \n",
    "back_end = ['Node','Express', 'MongoDB']\n",
    "com = front_end+back_end\n",
    "com"
   ]
  },
  {
   "cell_type": "markdown",
   "metadata": {
    "id": "kASFM1bh8p4X"
   },
   "source": [
    "#### **Exercice 07:** \n",
    "Voici une liste de 10 âges d'étudiants :\n",
    "\n",
    "         ages = [19, 22, 19, 24, 20, 25, 26, 24, 25, 24]\n",
    "         \n",
    " \n",
    "    1. Trier la liste et trouver l'âge minimum et maximum.\n",
    "    2. Ajoutez à nouveau l'âge minimum et l'âge maximum à la liste.\n",
    "    3. Trouvez l'âge médian (un élément du milieu ou deux éléments du milieu divisés par deux).\n",
    "    4. Trouvez l'âge moyen (somme de tous les éléments divisée par leur nombre).\n",
    "    4. Trouver l'intervalle des âges (max moins min)\n",
    "    5. Comparez les valeurs de (min - moyenne) et (max - moyenne) en utilisant la méthode abs().\n",
    "        "
   ]
  },
  {
   "cell_type": "code",
   "execution_count": 122,
   "metadata": {
    "id": "TWTGGaOO8p4Z"
   },
   "outputs": [
    {
     "name": "stdout",
     "output_type": "stream",
     "text": [
      "[19, 19, 20, 22, 24, 24, 24, 25, 25, 26]\n",
      "l'age maximale est  26\n",
      "l'age minimale est  19\n",
      "l'age mediane est  24\n",
      "l'age moyenne est  22.75\n",
      "l'intervalle d'age est  26 22.75 19\n",
      "La valeur min-moyenne donne  3.75\n",
      "La valeur max-moyenne donne  3.25\n"
     ]
    }
   ],
   "source": [
    "ages = [19, 22, 19, 24, 20, 25, 26, 24, 25, 24]\n",
    "ages.sort() \n",
    "print(ages) # triage de la liste\n",
    "x=max(ages) # age maximal\n",
    "print('l\\'age maximale est ',x)   \n",
    "y=min(ages) #age minimal\n",
    "print('l\\'age minimale est ',y)    \n",
    "ages.extend([x,y]) # Ajoutez à nouveau l'âge minimum et l'âge maximum à la liste\n",
    "med=ages[int(len(ages)/2)] # Trouvez l'âge médian\n",
    "print('l\\'age mediane est ',med)\n",
    "g=sum(ages)/len(ages)\n",
    "print('l\\'age moyenne est ',g)    \n",
    "print('l\\'intervalle d\\'age est ',x,g,y)   \n",
    "compar1=abs(y-g)\n",
    "compar2=abs(x-g)\n",
    "print(\"La valeur min-moyenne donne \",compar1)\n",
    "print(\"La valeur max-moyenne donne \",compar2)"
   ]
  },
  {
   "cell_type": "markdown",
   "metadata": {
    "id": "bF7FI4iT8p4i"
   },
   "source": [
    "###  <center> <b> <span style=\"color:blue;\"> Dictionnaires </span> </b></center>"
   ]
  },
  {
   "cell_type": "markdown",
   "metadata": {
    "id": "VzcSJMf18p4j"
   },
   "source": [
    "\n",
    "1. Créer un dictionnaire vide appelé `dog`\n",
    "2. Ajoute le nom, la couleur, la race, les pattes, l'âge au dictionnaire dog.\n",
    "3. Créez un dictionnaire student et ajoutez le prénom, le nom, le sexe, l'âge, l'état civil, les compétences, le pays, la ville et l'adresse comme clés pour le dictionnaire.\n",
    "4. Obtenez la longueur du dictionnaire student\n",
    "5. Récupérez la valeur des compétences et vérifiez le type de données, il doit s'agir d'une liste.\n",
    "6. Modifiez les valeurs des compétences en ajoutant une ou deux compétences.\n",
    "7. Obtenez les clés du dictionnaire sous forme de liste\n",
    "8. Obtenir les valeurs du dictionnaire sous forme de liste\n",
    "9. Transformer le dictionnaire en une liste de tuples en utilisant la méthode items()\n",
    "10. Supprimer un des éléments du dictionnaire\n",
    "11. Supprimer un des dictionnaires\n"
   ]
  },
  {
   "cell_type": "code",
   "execution_count": 123,
   "metadata": {
    "id": "LJ6DfBUh8p4k"
   },
   "outputs": [],
   "source": [
    "dog={}"
   ]
  },
  {
   "cell_type": "code",
   "execution_count": 124,
   "metadata": {},
   "outputs": [
    {
     "name": "stdout",
     "output_type": "stream",
     "text": [
      "{'nom': 'BoulDog', 'couleur': 'Blanche', 'race': 'Caniche', 'pattes': 4, 'age': 7}\n"
     ]
    },
    {
     "data": {
      "text/plain": [
       "dict"
      ]
     },
     "execution_count": 124,
     "metadata": {},
     "output_type": "execute_result"
    }
   ],
   "source": [
    "dog['nom']='BoulDog'\n",
    "dog['couleur']='Blanche'\n",
    "dog['race']='Caniche'\n",
    "dog['pattes']=4\n",
    "dog['age']=7\n",
    "print(dog)\n",
    "type(dog)"
   ]
  },
  {
   "cell_type": "code",
   "execution_count": 125,
   "metadata": {},
   "outputs": [
    {
     "name": "stdout",
     "output_type": "stream",
     "text": [
      "la logueur du dictionnaire est  9\n"
     ]
    }
   ],
   "source": [
    "student={}\n",
    "student['Prenom']='Babacar'\n",
    "student['Nom']='Diaw'\n",
    "student['Sexe']='Homme'\n",
    "student['Age']=15\n",
    "student['Etat civil']='Single'\n",
    "student['Competences']=[\"computing\",\"sport\",\"killer\"]\n",
    "student['Pays']='Senegal'\n",
    "student['Ville']='Dakar'\n",
    "student['Adresse']='Fass Mbao'\n",
    "n=len(student)\n",
    "print('la logueur du dictionnaire est ',n)\n"
   ]
  },
  {
   "cell_type": "code",
   "execution_count": 126,
   "metadata": {},
   "outputs": [
    {
     "name": "stdout",
     "output_type": "stream",
     "text": [
      "<class 'list'>\n",
      "{'Prenom': 'Babacar', 'Nom': 'Diaw', 'Sexe': 'Homme', 'Age': 15, 'Etat civil': 'Single', 'Competences': ['computing', 'sport', 'killer', 'hacker'], 'Pays': 'Senegal', 'Ville': 'Dakar', 'Adresse': 'Fass Mbao'}\n"
     ]
    }
   ],
   "source": [
    "student.get('Competences')\n",
    "print(type(student['Competences']))\n",
    "student['Competences'].append('hacker')\n",
    "print(student)"
   ]
  },
  {
   "cell_type": "code",
   "execution_count": 127,
   "metadata": {},
   "outputs": [
    {
     "name": "stdout",
     "output_type": "stream",
     "text": [
      "['Prenom', 'Nom', 'Sexe', 'Age', 'Etat civil', 'Competences', 'Pays', 'Ville', 'Adresse']\n",
      "<class 'list'>\n"
     ]
    }
   ],
   "source": [
    "cles=list(student.keys())\n",
    "print(cles)\n",
    "print(type(cles))"
   ]
  },
  {
   "cell_type": "code",
   "execution_count": 128,
   "metadata": {},
   "outputs": [
    {
     "name": "stdout",
     "output_type": "stream",
     "text": [
      "['Babacar', 'Diaw', 'Homme', 15, 'Single', ['computing', 'sport', 'killer', 'hacker'], 'Senegal', 'Dakar', 'Fass Mbao']\n",
      "<class 'list'>\n"
     ]
    }
   ],
   "source": [
    "valeurs=list(student.values())\n",
    "print(valeurs)\n",
    "print(type(valeurs))"
   ]
  },
  {
   "cell_type": "code",
   "execution_count": 129,
   "metadata": {},
   "outputs": [
    {
     "data": {
      "text/plain": [
       "dict_items([('Prenom', 'Babacar'), ('Nom', 'Diaw'), ('Sexe', 'Homme'), ('Age', 15), ('Etat civil', 'Single'), ('Competences', ['computing', 'sport', 'killer', 'hacker']), ('Pays', 'Senegal'), ('Ville', 'Dakar'), ('Adresse', 'Fass Mbao')])"
      ]
     },
     "execution_count": 129,
     "metadata": {},
     "output_type": "execute_result"
    }
   ],
   "source": [
    "student.items() # transformation diction en liste de tuples"
   ]
  },
  {
   "cell_type": "code",
   "execution_count": 130,
   "metadata": {},
   "outputs": [
    {
     "name": "stdout",
     "output_type": "stream",
     "text": [
      "{'Prenom': 'Babacar', 'Nom': 'Diaw', 'Sexe': 'Homme', 'Age': 15, 'Competences': ['computing', 'sport', 'killer', 'hacker'], 'Pays': 'Senegal', 'Ville': 'Dakar', 'Adresse': 'Fass Mbao'}\n"
     ]
    }
   ],
   "source": [
    "del student['Etat civil']\n",
    "print(student)"
   ]
  },
  {
   "cell_type": "code",
   "execution_count": 131,
   "metadata": {},
   "outputs": [
    {
     "name": "stdout",
     "output_type": "stream",
     "text": [
      "{} <class 'dict'>\n"
     ]
    }
   ],
   "source": [
    "dog.clear()\n",
    "print(dog,type(dog))\n"
   ]
  },
  {
   "cell_type": "markdown",
   "metadata": {
    "id": "ugc1Itzb8p4l"
   },
   "source": [
    "<center> <b> <span style=\"color:orange;\"> 🎉 FÉLICITATIONS ! / CONGRATULATIONS !🎉 </span> </b></center>"
   ]
  }
 ],
 "metadata": {
  "colab": {
   "name": "Exercices_02_Objets-itérables-ou-conteneurs.ipynb",
   "provenance": []
  },
  "kernelspec": {
   "display_name": "Python 3",
   "language": "python",
   "name": "python3"
  },
  "language_info": {
   "codemirror_mode": {
    "name": "ipython",
    "version": 3
   },
   "file_extension": ".py",
   "mimetype": "text/x-python",
   "name": "python",
   "nbconvert_exporter": "python",
   "pygments_lexer": "ipython3",
   "version": "3.7.3"
  }
 },
 "nbformat": 4,
 "nbformat_minor": 1
}
